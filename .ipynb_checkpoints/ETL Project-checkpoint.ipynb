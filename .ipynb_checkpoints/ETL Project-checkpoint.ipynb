{
 "cells": [
  {
   "cell_type": "code",
   "execution_count": null,
   "metadata": {},
   "outputs": [],
   "source": [
    "import pandas as pd\n",
    "from sqlalchemy import create_engine"
   ]
  },
  {
   "cell_type": "markdown",
   "metadata": {},
   "source": [
    "# Load CSV into DataFrame"
   ]
  },
  {
   "cell_type": "code",
   "execution_count": null,
   "metadata": {
    "scrolled": true
   },
   "outputs": [],
   "source": [
    "# Load Summer CSV into DataFrame\n",
    "summer_file = \"Resources/summer.csv\"\n",
    "summer_df = pd.read_csv(summer_file)"
   ]
  },
  {
   "cell_type": "code",
   "execution_count": null,
   "metadata": {},
   "outputs": [],
   "source": [
    "# Load Winter CSV into DataFrame\n",
    "winter_file = \"Resources/winter.csv\"\n",
    "winter_df = pd.read_csv(winter_file)"
   ]
  },
  {
   "cell_type": "code",
   "execution_count": null,
   "metadata": {},
   "outputs": [],
   "source": [
    "# Load Dictionary CSV into DataFrame\n",
    "country_file = \"Resources/dictionary.csv\"\n",
    "country_df = pd.read_csv(country_file)"
   ]
  },
  {
   "cell_type": "markdown",
   "metadata": {},
   "source": [
    "# Transform DataFrame"
   ]
  },
  {
   "cell_type": "code",
   "execution_count": null,
   "metadata": {},
   "outputs": [],
   "source": [
    "# Rename Columns\n",
    "summer_df = summer_df.rename(columns={\"Year\": \"year\",\n",
    "                                      \"City\": \"city\",\n",
    "                                      \"Sport\": \"sport\",\n",
    "                                      \"Discipline\": \"discipline\",\n",
    "                                      \"Athlete\": \"athlete\",\n",
    "                                      \"Country\": \"country_code\",\n",
    "                                      \"Gender\": \"gender\",\n",
    "                                      \"Event\": \"event\",\n",
    "                                      \"Medal\": \"medal\"})\n",
    "\n",
    "# Set index\n",
    "summer_df.index.name = 'summer_id'\n",
    "\n",
    "summer_df.head()"
   ]
  },
  {
   "cell_type": "code",
   "execution_count": null,
   "metadata": {
    "scrolled": true
   },
   "outputs": [],
   "source": [
    "# Rename Columns\n",
    "winter_df = winter_df.rename(columns={\"Year\": \"year\",\n",
    "                                      \"City\": \"city\",\n",
    "                                      \"Sport\": \"sport\",\n",
    "                                      \"Discipline\": \"discipline\",\n",
    "                                      \"Athlete\": \"athlete\",\n",
    "                                      \"Country\": \"country_code\",\n",
    "                                      \"Gender\": \"gender\",\n",
    "                                      \"Event\": \"event\",\n",
    "                                      \"Medal\": \"medal\"})\n",
    "\n",
    "# Set index\n",
    "winter_df.index.name = 'winter_id'\n",
    "\n",
    "winter_df.head()"
   ]
  },
  {
   "cell_type": "code",
   "execution_count": null,
   "metadata": {},
   "outputs": [],
   "source": [
    "# Rename Columns\n",
    "country_df = country_df.rename(columns={\"Country\": \"country\",\n",
    "                                        \"Code\": \"country_code\",\n",
    "                                        \"Population\": \"population\",\n",
    "                                        \"GDP per Capita\": \"gdp_per_capita\"})\n",
    "\n",
    "# Set index\n",
    "country_df.set_index(\"country_code\", inplace=True)\n",
    "\n",
    "country_df.head()"
   ]
  },
  {
   "cell_type": "markdown",
   "metadata": {},
   "source": [
    "# Create Database Connection"
   ]
  },
  {
   "cell_type": "code",
   "execution_count": null,
   "metadata": {},
   "outputs": [],
   "source": [
    "# Create Connection\n",
    "connection_string = \"postgres:password@localhost:5432/olympics_db\"\n",
    "engine = create_engine(f'postgresql://{connection_string}')"
   ]
  },
  {
   "cell_type": "code",
   "execution_count": null,
   "metadata": {},
   "outputs": [],
   "source": [
    "# Confirm Tables\n",
    "engine.table_names()"
   ]
  },
  {
   "cell_type": "markdown",
   "metadata": {},
   "source": [
    "# Load DataFrame into Database"
   ]
  },
  {
   "cell_type": "code",
   "execution_count": null,
   "metadata": {},
   "outputs": [],
   "source": [
    "# Load summer_df into database\n",
    "summer_df.to_sql(name='summer', con=engine, if_exists='append', index=True)"
   ]
  },
  {
   "cell_type": "code",
   "execution_count": null,
   "metadata": {},
   "outputs": [],
   "source": [
    "# Load winter_df into database\n",
    "winter_df.to_sql(name='winter', con=engine, if_exists='append', index=True)"
   ]
  },
  {
   "cell_type": "code",
   "execution_count": null,
   "metadata": {},
   "outputs": [],
   "source": [
    "# Load country_df into database\n",
    "country_df.to_sql(name='countries', con=engine, if_exists='append', index=True)"
   ]
  },
  {
   "cell_type": "markdown",
   "metadata": {},
   "source": [
    "# Confirm Data is Added"
   ]
  },
  {
   "cell_type": "code",
   "execution_count": null,
   "metadata": {},
   "outputs": [],
   "source": [
    "# Query summer table\n",
    "pd.read_sql_query('select * from summer', con=engine).head()"
   ]
  },
  {
   "cell_type": "code",
   "execution_count": null,
   "metadata": {},
   "outputs": [],
   "source": [
    "# Query winter table\n",
    "pd.read_sql_query('select * from winter', con=engine).head()"
   ]
  },
  {
   "cell_type": "code",
   "execution_count": null,
   "metadata": {},
   "outputs": [],
   "source": [
    "# Query countries table\n",
    "pd.read_sql_query('select * from countries', con=engine).head()"
   ]
  }
 ],
 "metadata": {
  "kernelspec": {
   "display_name": "Python 3",
   "language": "python",
   "name": "python3"
  },
  "language_info": {
   "codemirror_mode": {
    "name": "ipython",
    "version": 3
   },
   "file_extension": ".py",
   "mimetype": "text/x-python",
   "name": "python",
   "nbconvert_exporter": "python",
   "pygments_lexer": "ipython3",
   "version": "3.7.4"
  }
 },
 "nbformat": 4,
 "nbformat_minor": 2
}
